{
 "cells": [
  {
   "cell_type": "markdown",
   "metadata": {},
   "source": [
    "# The importance of $O$ notation: A case study with three algorithms for the maximum subarray sum problem.\n",
    "Written by David Zollikofer"
   ]
  },
  {
   "cell_type": "code",
   "execution_count": 1,
   "metadata": {},
   "outputs": [
    {
     "name": "stdout",
     "output_type": "stream",
     "text": [
      "[ 0 -2  2  0  1  1  0 -4 -5 -3  3  0 -1 -2 -3 -4  0  3 -2 -4  2 -3 -1  1\n",
      " -5  3  0  2  4  2 -5 -5 -2  4  0 -3  3 -5  3 -2  1 -1  1  1 -1 -4 -3  3\n",
      "  1 -3  2 -5  2  1 -3 -2  4  4  3  2 -5  4  3  3 -2 -1  0 -1  1 -5 -3 -4\n",
      "  2  4  1  1 -5  2  1  0 -3 -5  0 -1  1 -2 -5  2  2  4 -4  2  2  2  2  2\n",
      "  3  0 -1  2]\n"
     ]
    }
   ],
   "source": [
    "import numpy as np\n",
    "\n",
    "SIZE = 100\n",
    "\n",
    "arr = np.random.randint(-5,5, size=(SIZE))\n",
    "print(arr)"
   ]
  },
  {
   "cell_type": "code",
   "execution_count": 2,
   "metadata": {},
   "outputs": [],
   "source": [
    "def naive(arr):\n",
    "    best_sum = 0\n",
    "    for i in range(len(arr)):\n",
    "        for j in range(i,len(arr)):\n",
    "            temp = np.sum(arr[i:j+1])\n",
    "            if best_sum < temp:\n",
    "                best_sum = temp\n",
    "    return best_sum\n",
    "\n",
    "\n",
    "#source: https://www.geeksforgeeks.org/maximum-subarray-sum-using-divide-and-conquer-algorithm/ but adapted\n",
    "def divide_and_conquer(arr):\n",
    "    def maxCrossingSum(arr, l, m, h):\n",
    "        sm = 0\n",
    "        left_sum = -10000\n",
    "        for i in range(m, l-1, -1):\n",
    "            sm = sm + arr[i]\n",
    "            if (sm > left_sum):\n",
    "                left_sum = sm\n",
    "        sm = 0\n",
    "        right_sum = -1000\n",
    "        for i in range(m + 1, h + 1):\n",
    "            sm = sm + arr[i]\n",
    "            if (sm > right_sum):\n",
    "                right_sum = sm\n",
    "        return max(left_sum + right_sum, left_sum, right_sum)\n",
    "\n",
    "    def maxSubArraySum(arr, l, h):\n",
    "        if (l == h):\n",
    "            return arr[l]\n",
    "        m = (l + h) // 2\n",
    "        return max(maxSubArraySum(arr, l, m),\n",
    "                   maxSubArraySum(arr, m+1, h),\n",
    "                   maxCrossingSum(arr, l, m, h))\n",
    "    \n",
    "    return maxSubArraySum(arr,0,len(arr)-1)\n",
    "\n",
    "# source: https://en.wikipedia.org/wiki/Maximum_subarray_problem\n",
    "def kadane(arr):\n",
    "    best_sum = 0\n",
    "    current_sum = 0\n",
    "    for i in range(0,len(arr)):\n",
    "        current_sum = max(0,current_sum+arr[i])\n",
    "        best_sum = max(best_sum,current_sum)\n",
    "    return best_sum\n",
    "\n"
   ]
  },
  {
   "cell_type": "code",
   "execution_count": 3,
   "metadata": {},
   "outputs": [
    {
     "name": "stdout",
     "output_type": "stream",
     "text": [
      "18\n",
      "18\n",
      "18\n"
     ]
    }
   ],
   "source": [
    "print(kadane(arr))\n",
    "print(naive(arr))\n",
    "print(divide_and_conquer(arr))"
   ]
  },
  {
   "cell_type": "code",
   "execution_count": 4,
   "metadata": {},
   "outputs": [
    {
     "name": "stdout",
     "output_type": "stream",
     "text": [
      "299 µs ± 144 µs per loop (mean ± std. dev. of 7 runs, 1000 loops each)\n",
      "2.44 ms ± 771 µs per loop (mean ± std. dev. of 7 runs, 1000 loops each)\n",
      "73.9 ms ± 10.4 ms per loop (mean ± std. dev. of 7 runs, 10 loops each)\n"
     ]
    }
   ],
   "source": [
    "#source\n",
    "\n",
    "res_kanade = %timeit  kadane(arr)\n",
    "res_div_conq = %timeit divide_and_conquer(arr)\n",
    "res_native = %timeit naive(arr)\n",
    "res_kanade"
   ]
  },
  {
   "cell_type": "code",
   "execution_count": 5,
   "metadata": {},
   "outputs": [
    {
     "name": "stdout",
     "output_type": "stream",
     "text": [
      "-----10-----\n",
      "37.7 µs ± 9.47 µs per loop (mean ± std. dev. of 7 runs, 10000 loops each)\n",
      "154 µs ± 19.3 µs per loop (mean ± std. dev. of 7 runs, 10000 loops each)\n",
      "601 µs ± 61.1 µs per loop (mean ± std. dev. of 7 runs, 1000 loops each)\n",
      "-----30-----\n",
      "63.1 µs ± 4.37 µs per loop (mean ± std. dev. of 7 runs, 10000 loops each)\n",
      "282 µs ± 17.3 µs per loop (mean ± std. dev. of 7 runs, 1000 loops each)\n",
      "4.87 ms ± 334 µs per loop (mean ± std. dev. of 7 runs, 100 loops each)\n",
      "-----60-----\n",
      "111 µs ± 25.1 µs per loop (mean ± std. dev. of 7 runs, 10000 loops each)\n",
      "308 µs ± 38 µs per loop (mean ± std. dev. of 7 runs, 1000 loops each)\n",
      "9.41 ms ± 588 µs per loop (mean ± std. dev. of 7 runs, 100 loops each)\n",
      "-----90-----\n",
      "105 µs ± 6.66 µs per loop (mean ± std. dev. of 7 runs, 10000 loops each)\n",
      "672 µs ± 329 µs per loop (mean ± std. dev. of 7 runs, 1000 loops each)\n",
      "21.9 ms ± 3.45 ms per loop (mean ± std. dev. of 7 runs, 10 loops each)\n",
      "-----100-----\n",
      "129 µs ± 15.4 µs per loop (mean ± std. dev. of 7 runs, 10000 loops each)\n",
      "555 µs ± 36.6 µs per loop (mean ± std. dev. of 7 runs, 1000 loops each)\n",
      "29.7 ms ± 2.98 ms per loop (mean ± std. dev. of 7 runs, 10 loops each)\n",
      "-----200-----\n",
      "233 µs ± 31 µs per loop (mean ± std. dev. of 7 runs, 1000 loops each)\n",
      "1.16 ms ± 78.9 µs per loop (mean ± std. dev. of 7 runs, 1000 loops each)\n",
      "102 ms ± 2.9 ms per loop (mean ± std. dev. of 7 runs, 10 loops each)\n",
      "-----300-----\n",
      "327 µs ± 24.3 µs per loop (mean ± std. dev. of 7 runs, 1000 loops each)\n",
      "1.85 ms ± 88.4 µs per loop (mean ± std. dev. of 7 runs, 100 loops each)\n",
      "240 ms ± 9.97 ms per loop (mean ± std. dev. of 7 runs, 1 loop each)\n",
      "-----500-----\n",
      "537 µs ± 35 µs per loop (mean ± std. dev. of 7 runs, 1000 loops each)\n",
      "3.34 ms ± 425 µs per loop (mean ± std. dev. of 7 runs, 100 loops each)\n",
      "The slowest run took 5.02 times longer than the fastest. This could mean that an intermediate result is being cached.\n",
      "1.52 s ± 1.01 s per loop (mean ± std. dev. of 7 runs, 1 loop each)\n",
      "-----600-----\n",
      "The slowest run took 4.19 times longer than the fastest. This could mean that an intermediate result is being cached.\n",
      "902 µs ± 608 µs per loop (mean ± std. dev. of 7 runs, 100 loops each)\n",
      "4.04 ms ± 522 µs per loop (mean ± std. dev. of 7 runs, 100 loops each)\n",
      "951 ms ± 67.6 ms per loop (mean ± std. dev. of 7 runs, 1 loop each)\n",
      "-----700-----\n",
      "801 µs ± 65.4 µs per loop (mean ± std. dev. of 7 runs, 1000 loops each)\n",
      "4.91 ms ± 524 µs per loop (mean ± std. dev. of 7 runs, 100 loops each)\n",
      "1.4 s ± 135 ms per loop (mean ± std. dev. of 7 runs, 1 loop each)\n",
      "-----800-----\n",
      "950 µs ± 48.8 µs per loop (mean ± std. dev. of 7 runs, 1000 loops each)\n",
      "5.61 ms ± 439 µs per loop (mean ± std. dev. of 7 runs, 100 loops each)\n",
      "2.47 s ± 1.17 s per loop (mean ± std. dev. of 7 runs, 1 loop each)\n",
      "-----1000-----\n",
      "1.13 ms ± 74.2 µs per loop (mean ± std. dev. of 7 runs, 1000 loops each)\n",
      "6.88 ms ± 490 µs per loop (mean ± std. dev. of 7 runs, 100 loops each)\n",
      "2.79 s ± 81.1 ms per loop (mean ± std. dev. of 7 runs, 1 loop each)\n",
      "-----1500-----\n",
      "The slowest run took 6.17 times longer than the fastest. This could mean that an intermediate result is being cached.\n",
      "3.48 ms ± 2.85 ms per loop (mean ± std. dev. of 7 runs, 1000 loops each)\n",
      "10.2 ms ± 529 µs per loop (mean ± std. dev. of 7 runs, 100 loops each)\n",
      "7.51 s ± 1.72 s per loop (mean ± std. dev. of 7 runs, 1 loop each)\n",
      "-----2000-----\n",
      "2.27 ms ± 266 µs per loop (mean ± std. dev. of 7 runs, 100 loops each)\n",
      "13.8 ms ± 787 µs per loop (mean ± std. dev. of 7 runs, 100 loops each)\n",
      "15 s ± 2.69 s per loop (mean ± std. dev. of 7 runs, 1 loop each)\n",
      "-----2500-----\n",
      "2.82 ms ± 249 µs per loop (mean ± std. dev. of 7 runs, 100 loops each)\n",
      "19.7 ms ± 6.11 ms per loop (mean ± std. dev. of 7 runs, 10 loops each)\n",
      "24.6 s ± 4.93 s per loop (mean ± std. dev. of 7 runs, 1 loop each)\n",
      "-----3000-----\n",
      "3.51 ms ± 274 µs per loop (mean ± std. dev. of 7 runs, 100 loops each)\n",
      "23.3 ms ± 4.97 ms per loop (mean ± std. dev. of 7 runs, 10 loops each)\n",
      "32.5 s ± 2.84 s per loop (mean ± std. dev. of 7 runs, 1 loop each)\n",
      "-----4000-----\n",
      "4.66 ms ± 382 µs per loop (mean ± std. dev. of 7 runs, 100 loops each)\n",
      "31.4 ms ± 2.58 ms per loop (mean ± std. dev. of 7 runs, 10 loops each)\n",
      "1min 4s ± 7.52 s per loop (mean ± std. dev. of 7 runs, 1 loop each)\n",
      "-----5000-----\n",
      "5.3 ms ± 209 µs per loop (mean ± std. dev. of 7 runs, 100 loops each)\n",
      "43.4 ms ± 10.7 ms per loop (mean ± std. dev. of 7 runs, 10 loops each)\n",
      "1min 42s ± 6.13 s per loop (mean ± std. dev. of 7 runs, 1 loop each)\n"
     ]
    }
   ],
   "source": [
    "intervals = [10,30,60,90,100,200,300,500,600,700,800,1000,1500,2000,2500,3000,4000,5000]\n",
    "\n",
    "y_kadane = []\n",
    "y_naive = []\n",
    "y_div_and_conq = []\n",
    "\n",
    "for interval in intervals:\n",
    "    print(\"-----\" + str(interval) + \"-----\")\n",
    "    arr = np.random.randint(-5,5, size=(interval))\n",
    "    res_kanade = %timeit -o kadane(arr)\n",
    "    y_kadane.append(res_kanade.average)\n",
    "    res_div_conq = %timeit -o divide_and_conquer(arr)\n",
    "    y_div_and_conq.append(res_div_conq.average)\n",
    "    res_native = %timeit -o naive(arr)\n",
    "    y_naive.append(res_native.average)\n",
    "\n",
    "\n",
    "    "
   ]
  },
  {
   "cell_type": "code",
   "execution_count": 6,
   "metadata": {},
   "outputs": [
    {
     "data": {
      "text/plain": [
       "<matplotlib.legend.Legend at 0x7fe83642a880>"
      ]
     },
     "execution_count": 6,
     "metadata": {},
     "output_type": "execute_result"
    },
    {
     "data": {
      "image/png": "[encoded data removed]",
      "text/plain": [
       "<Figure size 432x288 with 1 Axes>"
      ]
     },
     "metadata": {
      "needs_background": "light"
     },
     "output_type": "display_data"
    }
   ],
   "source": [
    "from matplotlib import pyplot as plt\n",
    "\n",
    "plt.title(\"Runtimes of Algorithms\")\n",
    "plt.plot(intervals,y_kadane,label=\"Kadane\")\n",
    "plt.plot(intervals,y_div_and_conq,label=\"Divide and Conquer\")\n",
    "plt.plot(intervals,y_naive,label=\"Naive\")\n",
    "plt.xlabel(\"Array Size\")\n",
    "plt.ylabel(\"Runtime\")\n",
    "plt.legend()\n"
   ]
  },
  {
   "cell_type": "code",
   "execution_count": 8,
   "metadata": {},
   "outputs": [
    {
     "data": {
      "text/plain": [
       "<matplotlib.legend.Legend at 0x7fe82d32dee0>"
      ]
     },
     "execution_count": 8,
     "metadata": {},
     "output_type": "execute_result"
    },
    {
     "data": {
      "image/png": "[encoded data removed]",
      "text/plain": [
       "<Figure size 432x288 with 1 Axes>"
      ]
     },
     "metadata": {
      "needs_background": "light"
     },
     "output_type": "display_data"
    }
   ],
   "source": [
    "from matplotlib import pyplot as plt\n",
    "\n",
    "plt.title(\"Runtimes of Algorithms\")\n",
    "plt.plot(intervals,y_kadane,label=\"Kadane\")\n",
    "plt.plot(intervals,y_div_and_conq,label=\"Divide and Conquer\")\n",
    "plt.xlabel(\"Array Size\")\n",
    "plt.ylabel(\"Runtime\")\n",
    "plt.legend()"
   ]
  },
  {
   "cell_type": "code",
   "execution_count": null,
   "metadata": {},
   "outputs": [],
   "source": []
  }
 ],
 "metadata": {
  "kernelspec": {
   "display_name": "Python 3",
   "language": "python",
   "name": "python3"
  },
  "language_info": {
   "codemirror_mode": {
    "name": "ipython",
    "version": 3
   },
   "file_extension": ".py",
   "mimetype": "text/x-python",
   "name": "python",
   "nbconvert_exporter": "python",
   "pygments_lexer": "ipython3",
   "version": "3.7.4"
  }
 },
 "nbformat": 4,
 "nbformat_minor": 4
}
